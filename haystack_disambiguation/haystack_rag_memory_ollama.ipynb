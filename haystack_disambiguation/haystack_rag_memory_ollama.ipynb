{
 "cells": [
  {
   "cell_type": "code",
   "execution_count": 1,
   "metadata": {},
   "outputs": [
    {
     "name": "stderr",
     "output_type": "stream",
     "text": [
      "c:\\Users\\sudos\\anaconda3\\envs\\haystack\\lib\\site-packages\\tqdm\\auto.py:21: TqdmWarning: IProgress not found. Please update jupyter and ipywidgets. See https://ipywidgets.readthedocs.io/en/stable/user_install.html\n",
      "  from .autonotebook import tqdm as notebook_tqdm\n"
     ]
    }
   ],
   "source": [
    "import os\n",
    "\n",
    "from haystack import Pipeline, Document\n",
    "from haystack.utils import Secret\n",
    "from haystack.document_stores.in_memory import InMemoryDocumentStore\n",
    "from haystack.components.retrievers.in_memory import InMemoryBM25Retriever\n",
    "from haystack.components.generators import OpenAIGenerator\n",
    "from haystack.components.builders.answer_builder import AnswerBuilder\n",
    "from haystack.components.builders.prompt_builder import PromptBuilder\n",
    "from haystack_integrations.components.generators.ollama import OllamaGenerator"
   ]
  },
  {
   "cell_type": "code",
   "execution_count": 2,
   "id": "0734c1ee",
   "metadata": {},
   "outputs": [],
   "source": [
    "train_data = []\n",
    "train_data_hava_dups = []\n",
    "# with open(\"input_52_ch_en.txt\", \"r\", encoding=\"utf-8\") as f:\n",
    "with open(\"input.txt\", \"r\", encoding=\"utf-8\") as f:\n",
    "    for line in f:\n",
    "        train_data_hava_dups.append(line.strip())\n",
    "# remove duplicates in train_data\n",
    "train_data_hava_dups = list(set(train_data_hava_dups))\n",
    "for line in train_data_hava_dups:\n",
    "    train_data.append(Document(content=line))\n",
    "\n",
    "# train_data= [\n",
    "#         Document(content=\"The meaning of 一洗万古 is that【清】詹事府司经局洗马之谑称，意指官至此，其后之升阶无望。清何刚德《话梦集》卷上：“三铨选格失调停，鲇竹功免滞典经。”自注：“‘一洗万古’，京曹谑语也。翰林转到詹事府司经局洗马，升阶便滞。人因‘一洗万古凡马空’之句，嘲之曰‘一洗万古’，亦以清朝不立东宫，故官制不甚介意也。”\"),\n",
    "# ]"
   ]
  },
  {
   "cell_type": "code",
   "execution_count": 3,
   "id": "9450ea57",
   "metadata": {},
   "outputs": [
    {
     "data": {
      "text/plain": [
       "1"
      ]
     },
     "execution_count": 3,
     "metadata": {},
     "output_type": "execute_result"
    }
   ],
   "source": [
    "document_store = InMemoryDocumentStore()\n",
    "document_store.write_documents(\n",
    "    train_data\n",
    ")"
   ]
  },
  {
   "cell_type": "code",
   "execution_count": 4,
   "id": "4f1a4caf",
   "metadata": {},
   "outputs": [
    {
     "data": {
      "text/plain": [
       "<haystack.core.pipeline.pipeline.Pipeline object at 0x0000022AE80E54B0>\n",
       "🚅 Components\n",
       "  - retriever: InMemoryBM25Retriever\n",
       "  - prompt_builder: PromptBuilder\n",
       "  - llm: OllamaGenerator\n",
       "🛤️ Connections\n",
       "  - retriever.documents -> prompt_builder.documents (List[Document])\n",
       "  - prompt_builder.prompt -> llm.prompt (str)"
      ]
     },
     "execution_count": 4,
     "metadata": {},
     "output_type": "execute_result"
    }
   ],
   "source": [
    "prompt_template = \"\"\"\n",
    "Given these documents, answer the question.\n",
    "Documents:\n",
    "{% for doc in documents %}\n",
    "    {{ doc.content }}\n",
    "{% endfor %}\n",
    "Question: {{question}}\n",
    "Answer:\n",
    "\"\"\"\n",
    "\n",
    "retriever = InMemoryBM25Retriever(document_store=document_store)\n",
    "prompt_builder = PromptBuilder(template=prompt_template)\n",
    "llm = OllamaGenerator(\n",
    "    model=\"phi3:medium\",\n",
    "    url=\"http://localhost:11434/api/generate\",\n",
    "    generation_kwargs={\n",
    "        \"num_predict\": 1000,\n",
    "        \"temperature\": 0.1,\n",
    "    },\n",
    ")\n",
    "\n",
    "rag_pipeline = Pipeline()\n",
    "rag_pipeline.add_component(\"retriever\", retriever)\n",
    "rag_pipeline.add_component(\"prompt_builder\", prompt_builder)\n",
    "rag_pipeline.add_component(\"llm\", llm)\n",
    "rag_pipeline.connect(\"retriever\", \"prompt_builder.documents\")\n",
    "rag_pipeline.connect(\"prompt_builder\", \"llm\")"
   ]
  },
  {
   "cell_type": "code",
   "execution_count": 5,
   "id": "e675a4c3",
   "metadata": {},
   "outputs": [
    {
     "name": "stdout",
     "output_type": "stream",
     "text": [
      " 段生珖遠, also known as公�n�，is a character from the documents provided. He is described as an individual with strong moral values and good education. He was born in the Chenxi area of Hunan province and later moved to Guizhou province's Tongren County (now part of Renhuai City). \n",
      "\n",
      "段生珖遠 has two sons, 正宸 and 正栻. During a time when their hometown was occupied by rebels, the elder son, 正宸, sacrificed his life to save his father from being killed by the rebels. The younger son, 正栻, also showed great courage and selflessness in protecting his family.\n",
      "\n",
      "The source of this information is found in a document titled \"張扶翼紀異錄\" (Zhang Fuying's Record of Strange Events).\n"
     ]
    }
   ],
   "source": [
    "# question = \"Based on the documents, please reply to me in Chinese. What is the meaning of 七佐?\"\n",
    "# question = \"用中文回答。根據這些文件，阐思是哪里人？并且告诉我资料来源\"\n",
    "# question = \"Tell me where 阐思 was from, and tell me the source\"\n",
    "question = \"Tell me the informaiton of 段生珖遠. Tell me the source you found in the document\"\n",
    "results = rag_pipeline.run(\n",
    "    {\n",
    "        \"retriever\": {\"query\": question},\n",
    "        \"prompt_builder\": {\"question\": question},\n",
    "    }\n",
    ")\n",
    "\n",
    "print(results[\"llm\"][\"replies\"][0])\n"
   ]
  }
 ],
 "metadata": {
  "kernelspec": {
   "display_name": "haystack_rag",
   "language": "python",
   "name": "python3"
  },
  "language_info": {
   "codemirror_mode": {
    "name": "ipython",
    "version": 3
   },
   "file_extension": ".py",
   "mimetype": "text/x-python",
   "name": "python",
   "nbconvert_exporter": "python",
   "pygments_lexer": "ipython3",
   "version": "3.10.14"
  }
 },
 "nbformat": 4,
 "nbformat_minor": 5
}
