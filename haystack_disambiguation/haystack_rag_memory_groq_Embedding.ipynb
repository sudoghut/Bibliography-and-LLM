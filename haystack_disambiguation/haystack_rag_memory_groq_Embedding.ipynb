{
 "cells": [
  {
   "cell_type": "code",
   "execution_count": 1,
   "id": "497f7312",
   "metadata": {},
   "outputs": [
    {
     "name": "stderr",
     "output_type": "stream",
     "text": [
      "c:\\Users\\sudos\\anaconda3\\envs\\haystack\\lib\\site-packages\\tqdm\\auto.py:21: TqdmWarning: IProgress not found. Please update jupyter and ipywidgets. See https://ipywidgets.readthedocs.io/en/stable/user_install.html\n",
      "  from .autonotebook import tqdm as notebook_tqdm\n"
     ]
    }
   ],
   "source": [
    "import os\n",
    "\n",
    "from haystack import Pipeline, Document\n",
    "from haystack.utils import Secret\n",
    "from haystack.document_stores.in_memory import InMemoryDocumentStore\n",
    "from haystack.components.retrievers.in_memory import InMemoryEmbeddingRetriever \n",
    "from haystack.components.embedders import SentenceTransformersTextEmbedder, SentenceTransformersDocumentEmbedder\n",
    "from haystack.components.generators import OpenAIGenerator\n",
    "from haystack.components.builders.prompt_builder import PromptBuilder"
   ]
  },
  {
   "cell_type": "code",
   "execution_count": 2,
   "id": "0734c1ee",
   "metadata": {},
   "outputs": [],
   "source": [
    "train_data = []\n",
    "train_data_hava_dups = []\n",
    "with open(\"input.txt\", \"r\", encoding=\"utf-8\") as f:\n",
    "    for line in f:\n",
    "        train_data_hava_dups.append(line.strip())\n",
    "# remove duplicates in train_data\n",
    "train_data_hava_dups = list(set(train_data_hava_dups))\n",
    "for line in train_data_hava_dups:\n",
    "    train_data.append(Document(content=line))"
   ]
  },
  {
   "cell_type": "code",
   "execution_count": 3,
   "id": "9450ea57",
   "metadata": {},
   "outputs": [
    {
     "name": "stderr",
     "output_type": "stream",
     "text": [
      "c:\\Users\\sudos\\anaconda3\\envs\\haystack\\lib\\site-packages\\huggingface_hub\\file_download.py:1132: FutureWarning: `resume_download` is deprecated and will be removed in version 1.0.0. Downloads always resume when possible. If you want to force a new download, use `force_download=True`.\n",
      "  warnings.warn(\n",
      "Batches: 100%|██████████| 2/2 [00:24<00:00, 12.33s/it]\n"
     ]
    },
    {
     "data": {
      "text/plain": [
       "62"
      ]
     },
     "execution_count": 3,
     "metadata": {},
     "output_type": "execute_result"
    }
   ],
   "source": [
    "document_store = InMemoryDocumentStore(embedding_similarity_function=\"cosine\")\n",
    "document_embedder = SentenceTransformersDocumentEmbedder()\n",
    "document_embedder.warm_up()\n",
    "documents_with_embeddings = document_embedder.run(train_data)[\"documents\"]\n",
    "document_store.write_documents(documents_with_embeddings)"
   ]
  },
  {
   "cell_type": "code",
   "execution_count": 4,
   "id": "a8962b0a",
   "metadata": {},
   "outputs": [],
   "source": [
    "# read api_key.txt to get the API key\n",
    "with open(\"api_key.txt\", \"r\") as f:\n",
    "    api_key = f.readline().strip()\n",
    "\n",
    "os.environ['GROQ_API_KEY'] = api_key"
   ]
  },
  {
   "cell_type": "code",
   "execution_count": 5,
   "id": "ecda1799",
   "metadata": {},
   "outputs": [],
   "source": [
    "retriever = InMemoryEmbeddingRetriever (document_store=document_store)\n",
    "prompt_template = \"\"\"\n",
    "According to the contents of this website:\n",
    "{% for document in documents %}\n",
    "  {{document.content}}\n",
    "{% endfor %}\n",
    "Answer the given question: {{query}}\n",
    "Answer:\n",
    "\"\"\"\n",
    "prompt_builder = PromptBuilder(template=prompt_template)\n",
    "llm = OpenAIGenerator(\n",
    "    api_key=Secret.from_env_var(\"GROQ_API_KEY\"),\n",
    "    api_base_url=\"https://api.groq.com/openai/v1\",\n",
    "    model=\"llama3-70b-8192\",\n",
    "    generation_kwargs = {\"max_tokens\": 1024}\n",
    ")\n"
   ]
  },
  {
   "cell_type": "code",
   "execution_count": 6,
   "id": "ed88e913",
   "metadata": {},
   "outputs": [
    {
     "data": {
      "text/plain": [
       "<haystack.core.pipeline.pipeline.Pipeline object at 0x0000017E155FB9A0>\n",
       "🚅 Components\n",
       "  - text_embedder: SentenceTransformersTextEmbedder\n",
       "  - retriever: InMemoryEmbeddingRetriever\n",
       "  - prompt_builder: PromptBuilder\n",
       "  - llm: OpenAIGenerator\n",
       "🛤️ Connections\n",
       "  - text_embedder.embedding -> retriever.query_embedding (List[float])\n",
       "  - retriever.documents -> prompt_builder.documents (List[Document])\n",
       "  - prompt_builder.prompt -> llm.prompt (str)"
      ]
     },
     "execution_count": 6,
     "metadata": {},
     "output_type": "execute_result"
    }
   ],
   "source": [
    "\n",
    "pipe = Pipeline()\n",
    "\n",
    "pipe.add_component(\"text_embedder\", SentenceTransformersTextEmbedder())\n",
    "pipe.add_component(\"retriever\", InMemoryEmbeddingRetriever (document_store=document_store))\n",
    "pipe.add_component(\"prompt_builder\", PromptBuilder(template=prompt_template))\n",
    "pipe.add_component(\"llm\", llm)\n",
    "pipe.connect(\"text_embedder.embedding\", \"retriever.query_embedding\")\n",
    "pipe.connect(\"retriever\", \"prompt_builder.documents\")\n",
    "pipe.connect(\"prompt_builder\", \"llm\")"
   ]
  },
  {
   "cell_type": "code",
   "execution_count": 7,
   "id": "46c60b83",
   "metadata": {},
   "outputs": [
    {
     "name": "stderr",
     "output_type": "stream",
     "text": [
      "Batches: 100%|██████████| 1/1 [00:00<00:00, 10.47it/s]\n"
     ]
    },
    {
     "name": "stdout",
     "output_type": "stream",
     "text": [
      "According to the document, the father of 長正宸 is 中憲公. The source I found in the document is:\n",
      "\n",
      "\"劉崑字西來吉安人進士 謹案庭聞錄崑 爲順治己亥進士 康熙初官雲南府同知 謹案庭聞錄崑於 康熙十一年山束 鹿縣知縣 擢是職 吳三桂叛崑執節不屈安置騰越後大兵 定滇擢常德府知府 騰越 州志 謹案謝聖綸滇黔志畧引南中雜說凡四條但云撰 於 國初不言崑作說中有康熙十二年予嘗入逆藩便坐 　語蓋作於三桂旣叛以後也惟劉健庭聞錄自序稱 其父先中憲公居永昌日曾著吳三桂傳及滇變記 二種己未歲封稾於壁中人寶臺山避兵踰年返求 故居滿目蓬蒿\"\n",
      "\n",
      "This passage mentions that the father of 劉健 (also known as 長正宸) is 中憲公.\n"
     ]
    }
   ],
   "source": [
    "# query = \"Based on the documents, are the author named 陳鼎 of 滇黔土司㛰禮記 and the author of 滇黔紀游 the same person? Please provide your reasons.\"\n",
    "# query = \"用中文回答。根據這些文件，特別是他們生平，譬如 courtesy name, style name、著述，哪裡人的資訊告訴我，滇黔土司㛰禮記的作者陳鼎和滇黔紀遊的作者是同一個人嗎？請提供你的理由。\"\n",
    "# query = \"用中文回答。根據這些文件，吴阐思是哪里人？并且告诉我资料来源\"\n",
    "# query = \"Tell me the informaiton of 段生珖遠. Tell me the source you found in the document\"\n",
    "query = \"Base on the documents, tell me the father of 長正宸. Tell me the source you found in the document\"\n",
    "res=pipe.run({\n",
    "    \"prompt_builder\": {\n",
    "        \"query\": query\n",
    "    },\n",
    "    \"text_embedder\": {\n",
    "        \"text\": query\n",
    "    }\n",
    "})\n",
    "print(res[\"llm\"][\"replies\"][0])"
   ]
  }
 ],
 "metadata": {
  "kernelspec": {
   "display_name": "haystack_rag",
   "language": "python",
   "name": "python3"
  },
  "language_info": {
   "codemirror_mode": {
    "name": "ipython",
    "version": 3
   },
   "file_extension": ".py",
   "mimetype": "text/x-python",
   "name": "python",
   "nbconvert_exporter": "python",
   "pygments_lexer": "ipython3",
   "version": "3.10.14"
  }
 },
 "nbformat": 4,
 "nbformat_minor": 5
}
